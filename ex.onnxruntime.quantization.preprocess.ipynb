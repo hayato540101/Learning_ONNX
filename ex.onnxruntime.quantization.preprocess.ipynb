{
 "cells": [
  {
   "cell_type": "code",
   "execution_count": 1,
   "metadata": {},
   "outputs": [],
   "source": [
    "import numpy as np\n",
    "import onnxruntime as ort\n",
    "import torch\n",
    "import torch.nn as nn\n",
    "import torch.nn.functional as F\n",
    "import torch.onnx\n",
    "import torchvision.models as models\n",
    "from onnxruntime.quantization import QuantType, quantize_dynamic\n",
    "\n",
    "import onnx\n"
   ]
  },
  {
   "cell_type": "markdown",
   "metadata": {},
   "source": [
    "### onnxruntime.quantization.preprocess"
   ]
  },
  {
   "cell_type": "code",
   "execution_count": 2,
   "metadata": {},
   "outputs": [
    {
     "name": "stderr",
     "output_type": "stream",
     "text": [
      "c:\\Users\\thyt\\envs\\onnx-cpu_torch\\lib\\site-packages\\torchvision\\models\\_utils.py:208: UserWarning: The parameter 'pretrained' is deprecated since 0.13 and may be removed in the future, please use 'weights' instead.\n",
      "  warnings.warn(\n",
      "c:\\Users\\thyt\\envs\\onnx-cpu_torch\\lib\\site-packages\\torchvision\\models\\_utils.py:223: UserWarning: Arguments other than a weight enum or `None` for 'weights' are deprecated since 0.13 and may be removed in the future. The current behavior is equivalent to passing `weights=None`.\n",
      "  warnings.warn(msg)\n"
     ]
    }
   ],
   "source": [
    "model = models.resnet18(pretrained=False)\n",
    "model.eval()  # モデルを評価モードに設定\n",
    "dummy_input = torch.randn(1, 3, 224, 224)\n",
    "torch.onnx.export(model, dummy_input, \"resnet18.onnx\", verbose=True, input_names=['input'], output_names=['output'])"
   ]
  },
  {
   "cell_type": "code",
   "execution_count": 3,
   "metadata": {},
   "outputs": [],
   "source": [
    "!python -m onnxruntime.quantization.preprocess --input resnet18.onnx --output resnet18-infer.onnx"
   ]
  },
  {
   "cell_type": "code",
   "execution_count": 4,
   "metadata": {},
   "outputs": [
    {
     "name": "stdout",
     "output_type": "stream",
     "text": [
      "層の数: 65\n",
      "パラメータ数: 11680872\n"
     ]
    }
   ],
   "source": [
    "model = onnx.load('resnet18.onnx')\n",
    "\n",
    "num_layers = len(model.graph.node)\n",
    "print(f\"層の数: {num_layers}\")\n",
    "\n",
    "total_params = sum(np.prod(tensor.dims) for tensor in model.graph.initializer)\n",
    "print(f\"パラメータ数: {total_params}\")"
   ]
  },
  {
   "cell_type": "code",
   "execution_count": 5,
   "metadata": {},
   "outputs": [
    {
     "name": "stdout",
     "output_type": "stream",
     "text": [
      "層の数: 49\n",
      "パラメータ数: 11680872\n"
     ]
    }
   ],
   "source": [
    "model = onnx.load('resnet18-infer.onnx')\n",
    "\n",
    "num_layers = len(model.graph.node)\n",
    "print(f\"層の数: {num_layers}\")\n",
    "\n",
    "total_params = sum(np.prod(tensor.dims) for tensor in model.graph.initializer)\n",
    "print(f\"パラメータ数: {total_params}\")"
   ]
  },
  {
   "cell_type": "code",
   "execution_count": 6,
   "metadata": {},
   "outputs": [
    {
     "name": "stdout",
     "output_type": "stream",
     "text": [
      "モデル1にはあるがモデル2にはない層:\n",
      "block: Identity_14, type: Identity\n",
      "block: Identity_0, type: Identity\n",
      "block: Identity_13, type: Identity\n",
      "block: Identity_4, type: Identity\n",
      "block: Identity_9, type: Identity\n",
      "block: Identity_8, type: Identity\n",
      "block: Identity_2, type: Identity\n",
      "block: Identity_11, type: Identity\n",
      "block: Identity_5, type: Identity\n",
      "block: Identity_3, type: Identity\n",
      "block: Identity_12, type: Identity\n",
      "block: Identity_6, type: Identity\n",
      "block: Identity_1, type: Identity\n",
      "block: Identity_10, type: Identity\n",
      "block: Identity_7, type: Identity\n",
      "block: Identity_15, type: Identity\n",
      "\n",
      "モデル2にはあるがモデル1にはない層:\n"
     ]
    }
   ],
   "source": [
    "model_1 = onnx.load('resnet18.onnx')\n",
    "model_2 = onnx.load('resnet18-infer.onnx')\n",
    "\n",
    "# ノード（層）の名前とタイプを取得\n",
    "model_1_nodes = {(node.name, node.op_type) for node in model_1.graph.node}\n",
    "model_2_nodes = {(node.name, node.op_type) for node in model_2.graph.node}\n",
    "\n",
    "diff_1_to_2 = model_1_nodes - model_2_nodes\n",
    "diff_2_to_1 = model_2_nodes - model_1_nodes\n",
    "\n",
    "print(\"モデル1にはあるがモデル2にはない層:\")\n",
    "for node in diff_1_to_2:\n",
    "    print(f\"block: {node[0]}, type: {node[1]}\")\n",
    "\n",
    "print(\"\\nモデル2にはあるがモデル1にはない層:\")\n",
    "for node in diff_2_to_1:\n",
    "    print(f\"block: {node[0]}, type: {node[1]}\")\n"
   ]
  },
  {
   "cell_type": "code",
   "execution_count": 7,
   "metadata": {},
   "outputs": [
    {
     "name": "stdout",
     "output_type": "stream",
     "text": [
      "層の数: 68\n",
      "パラメータの総数: 11689512\n"
     ]
    }
   ],
   "source": [
    "import torch\n",
    "import torchvision.models as models\n",
    "\n",
    "# ResNet18モデルをロード\n",
    "model = models.resnet18(pretrained=False)\n",
    "\n",
    "# 層の数をカウント\n",
    "num_layers = sum(1 for _ in model.modules())\n",
    "\n",
    "# パラメータの総数をカウント\n",
    "total_params = sum(p.numel() for p in model.parameters())\n",
    "\n",
    "print(f\"層の数: {num_layers}\")\n",
    "print(f\"パラメータの総数: {total_params}\")\n"
   ]
  },
  {
   "cell_type": "code",
   "execution_count": 8,
   "metadata": {},
   "outputs": [
    {
     "data": {
      "text/plain": [
       "'resnet18_visualization.png'"
      ]
     },
     "execution_count": 8,
     "metadata": {},
     "output_type": "execute_result"
    }
   ],
   "source": [
    "import torchvision.models as models\n",
    "from torchviz import make_dot\n",
    "\n",
    "model = models.resnet18(pretrained=False)\n",
    "dummy_input = torch.randn(1, 3, 224, 224)\n",
    "output = model(dummy_input)\n",
    "dot = make_dot(output, params=dict(list(model.named_parameters()) + [('input', dummy_input)]))\n",
    "dot.render('resnet18_visualization', format='png')"
   ]
  }
 ],
 "metadata": {
  "kernelspec": {
   "display_name": "onnx-cpu",
   "language": "python",
   "name": "python3"
  },
  "language_info": {
   "codemirror_mode": {
    "name": "ipython",
    "version": 3
   },
   "file_extension": ".py",
   "mimetype": "text/x-python",
   "name": "python",
   "nbconvert_exporter": "python",
   "pygments_lexer": "ipython3",
   "version": "3.8.0"
  }
 },
 "nbformat": 4,
 "nbformat_minor": 2
}
