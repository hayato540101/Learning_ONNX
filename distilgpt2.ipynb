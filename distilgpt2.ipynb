{
 "cells": [
  {
   "cell_type": "code",
   "execution_count": 18,
   "metadata": {},
   "outputs": [],
   "source": [
    "# !pip install transformers\n",
    "# !pip3 install torch torchvision torchaudio --index-url https://download.pytorch.org/whl/cu118\n",
    "# !pip3 install jupyterlab\n",
    "# !pip install onnx\n",
    "# !pip install onnxsim"
   ]
  },
  {
   "cell_type": "markdown",
   "metadata": {},
   "source": [
    "https://huggingface.co/docs/transformers/model_doc/gpt2"
   ]
  },
  {
   "cell_type": "code",
   "execution_count": 16,
   "metadata": {},
   "outputs": [],
   "source": [
    "from transformers import GPT2Model, GPT2Tokenizer\n",
    "import torch\n",
    "from pathlib import Path\n",
    "\n",
    "model_name = \"distilgpt2\"\n",
    "tokenizer = GPT2Tokenizer.from_pretrained(model_name)\n",
    "model = GPT2Model.from_pretrained(model_name)\n",
    "\n",
    "# ONNXファイルの保存先\n",
    "onnx_output_path = Path(\"distilgpt2_20230307.onnx\")\n",
    "\n",
    "# ダミー入力の準備\n",
    "input_ids = torch.tensor([tokenizer.encode(\"Hello, my dog is cute\")])\n",
    "\n",
    "# ONNXエクスポート実行\n",
    "torch.onnx.export(model, \n",
    "                  input_ids, \n",
    "                  onnx_output_path, \n",
    "                  export_params=True, \n",
    "                  opset_version=11, \n",
    "                  do_constant_folding=True, \n",
    "                  input_names=['input_ids'], \n",
    "                  output_names=['outputs'],\n",
    "                  dynamic_axes={'input_ids': {0: 'batch_size'}, 'outputs': {0: 'batch_size'}})\n"
   ]
  },
  {
   "cell_type": "code",
   "execution_count": 17,
   "metadata": {},
   "outputs": [
    {
     "name": "stdout",
     "output_type": "stream",
     "text": [
      "Installing onnxruntime by `C:\\Users\\thyt\\envs\\huggingface\\Scripts\\python.exe -m\n",
      "pip install onnxruntime`, please wait for a moment..\n",
      "Collecting onnxruntime\n",
      "  Downloading onnxruntime-1.17.1-cp39-cp39-win_amd64.whl (5.6 MB)\n",
      "Collecting flatbuffers\n",
      "  Using cached flatbuffers-23.5.26-py2.py3-none-any.whl (26 kB)\n",
      "Requirement already satisfied: packaging in c:\\users\\thyt\\envs\\huggingface\\lib\\site-packages (from onnxruntime) (23.2)\n",
      "Requirement already satisfied: numpy>=1.21.6 in c:\\users\\thyt\\envs\\huggingface\\lib\\site-packages (from onnxruntime) (1.26.4)\n",
      "Requirement already satisfied: protobuf in c:\\users\\thyt\\envs\\huggingface\\lib\\site-packages (from onnxruntime) (4.25.3)\n",
      "Collecting coloredlogs\n",
      "  Using cached coloredlogs-15.0.1-py2.py3-none-any.whl (46 kB)\n",
      "Requirement already satisfied: sympy in c:\\users\\thyt\\envs\\huggingface\\lib\\site-packages (from onnxruntime) (1.12)\n",
      "Collecting humanfriendly>=9.1\n",
      "  Using cached humanfriendly-10.0-py2.py3-none-any.whl (86 kB)\n",
      "Collecting pyreadline3\n",
      "  Using cached pyreadline3-3.4.1-py3-none-any.whl (95 kB)\n",
      "Requirement already satisfied: mpmath>=0.19 in c:\\users\\thyt\\envs\\huggingface\\lib\\site-packages (from sympy->onnxruntime) (1.3.0)\n",
      "Installing collected packages: pyreadline3, humanfriendly, flatbuffers, coloredlogs, onnxruntime\n",
      "Successfully installed coloredlogs-15.0.1 flatbuffers-23.5.26 humanfriendly-10.0 onnxruntime-1.17.1 pyreadline3-3.4.1\n",
      "Your model contains \"Tile\" ops or/and \"ConstantOfShape\" ops. Folding these ops \n",
      "can make the simplified model much larger. If it is not expected, please \n",
      "specify \"--no-large-tensor\" (which will lose some optimization chances)\n",
      "Simplifying...\n",
      "Finish! Here is the difference:\n",
      "┌─────────────────┬────────────────┬──────────────────┐\n",
      "│                 │ Original Model │ Simplified Model │\n",
      "├─────────────────┼────────────────┼──────────────────┤\n",
      "│ Add             │ 57             │ 51               │\n",
      "│ Cast            │ 19             │ 0                │\n",
      "│ Concat          │ 74             │ 0                │\n",
      "│ Constant        │ 496            │ 92               │\n",
      "│ ConstantOfShape │ 6              │ 0                │\n",
      "│ Div             │ 19             │ 19               │\n",
      "│ Gather          │ 99             │ 1                │\n",
      "│ Gemm            │ 24             │ 24               │\n",
      "│ MatMul          │ 12             │ 12               │\n",
      "│ Mul             │ 37             │ 37               │\n",
      "│ Pow             │ 25             │ 19               │\n",
      "│ Range           │ 1              │ 0                │\n",
      "│ ReduceMean      │ 26             │ 26               │\n",
      "│ Reshape         │ 74             │ 66               │\n",
      "│ Shape           │ 140            │ 0                │\n",
      "│ Slice           │ 55             │ 0                │\n",
      "│ Softmax         │ 6              │ 6                │\n",
      "│ Split           │ 6              │ 6                │\n",
      "│ Sqrt            │ 13             │ 13               │\n",
      "│ Squeeze         │ 43             │ 0                │\n",
      "│ Sub             │ 19             │ 13               │\n",
      "│ Tanh            │ 6              │ 6                │\n",
      "│ Transpose       │ 30             │ 30               │\n",
      "│ Unsqueeze       │ 142            │ 0                │\n",
      "│ Where           │ 6              │ 6                │\n",
      "│ Model Size      │ 313.6MiB       │ 309.5MiB         │\n",
      "└─────────────────┴────────────────┴──────────────────┘\n"
     ]
    },
    {
     "name": "stderr",
     "output_type": "stream",
     "text": [
      "WARNING: You are using pip version 21.2.3; however, version 24.0 is available.\n",
      "You should consider upgrading via the 'C:\\Users\\thyt\\envs\\huggingface\\Scripts\\python.exe -m pip install --upgrade pip' command.\n"
     ]
    }
   ],
   "source": [
    "!onnxsim distilgpt2_20230307.onnx distilgpt2_20230307_simplified.onnx"
   ]
  },
  {
   "cell_type": "markdown",
   "metadata": {},
   "source": [
    "### ssc4onnx"
   ]
  },
  {
   "cell_type": "code",
   "execution_count": 19,
   "metadata": {},
   "outputs": [
    {
     "name": "stdout",
     "output_type": "stream",
     "text": [
      "Requirement already satisfied: onnx in c:\\users\\thyt\\envs\\huggingface\\lib\\site-packages (1.15.0)\n",
      "Requirement already satisfied: rich in c:\\users\\thyt\\envs\\huggingface\\lib\\site-packages (13.7.1)\n",
      "Requirement already satisfied: onnxruntime in c:\\users\\thyt\\envs\\huggingface\\lib\\site-packages (1.17.1)\n",
      "Requirement already satisfied: protobuf>=3.20.2 in c:\\users\\thyt\\envs\\huggingface\\lib\\site-packages (from onnx) (4.25.3)\n",
      "Requirement already satisfied: numpy in c:\\users\\thyt\\envs\\huggingface\\lib\\site-packages (from onnx) (1.26.4)\n",
      "Requirement already satisfied: pygments<3.0.0,>=2.13.0 in c:\\users\\thyt\\envs\\huggingface\\lib\\site-packages (from rich) (2.17.2)\n",
      "Requirement already satisfied: markdown-it-py>=2.2.0 in c:\\users\\thyt\\envs\\huggingface\\lib\\site-packages (from rich) (3.0.0)\n",
      "Requirement already satisfied: sympy in c:\\users\\thyt\\envs\\huggingface\\lib\\site-packages (from onnxruntime) (1.12)\n",
      "Requirement already satisfied: packaging in c:\\users\\thyt\\envs\\huggingface\\lib\\site-packages (from onnxruntime) (23.2)\n",
      "Requirement already satisfied: coloredlogs in c:\\users\\thyt\\envs\\huggingface\\lib\\site-packages (from onnxruntime) (15.0.1)\n",
      "Requirement already satisfied: flatbuffers in c:\\users\\thyt\\envs\\huggingface\\lib\\site-packages (from onnxruntime) (23.5.26)\n",
      "Requirement already satisfied: mdurl~=0.1 in c:\\users\\thyt\\envs\\huggingface\\lib\\site-packages (from markdown-it-py>=2.2.0->rich) (0.1.2)\n",
      "Requirement already satisfied: humanfriendly>=9.1 in c:\\users\\thyt\\envs\\huggingface\\lib\\site-packages (from coloredlogs->onnxruntime) (10.0)\n",
      "Requirement already satisfied: pyreadline3 in c:\\users\\thyt\\envs\\huggingface\\lib\\site-packages (from humanfriendly>=9.1->coloredlogs->onnxruntime) (3.4.1)\n",
      "Requirement already satisfied: mpmath>=0.19 in c:\\users\\thyt\\envs\\huggingface\\lib\\site-packages (from sympy->onnxruntime) (1.3.0)\n",
      "Collecting ssc4onnx\n",
      "  Downloading ssc4onnx-1.0.8-py3-none-any.whl (6.6 kB)\n",
      "Installing collected packages: ssc4onnx\n",
      "Successfully installed ssc4onnx-1.0.8\n",
      "Looking in indexes: https://pypi.ngc.nvidia.com\n",
      "Collecting onnx_graphsurgeon\n",
      "  Downloading https://developer.download.nvidia.com/compute/redist/onnx-graphsurgeon/onnx_graphsurgeon-0.3.27-py2.py3-none-any.whl (42 kB)\n",
      "Requirement already satisfied: numpy in c:\\users\\thyt\\envs\\huggingface\\lib\\site-packages (from onnx_graphsurgeon) (1.26.4)\n",
      "Requirement already satisfied: onnx in c:\\users\\thyt\\envs\\huggingface\\lib\\site-packages (from onnx_graphsurgeon) (1.15.0)\n",
      "Requirement already satisfied: protobuf>=3.20.2 in c:\\users\\thyt\\envs\\huggingface\\lib\\site-packages (from onnx->onnx_graphsurgeon) (4.25.3)\n",
      "Installing collected packages: onnx-graphsurgeon\n",
      "Successfully installed onnx-graphsurgeon-0.3.27\n"
     ]
    },
    {
     "name": "stderr",
     "output_type": "stream",
     "text": [
      "WARNING: You are using pip version 21.2.3; however, version 24.0 is available.\n",
      "You should consider upgrading via the 'C:\\Users\\thyt\\envs\\huggingface\\Scripts\\python.exe -m pip install --upgrade pip' command.\n",
      "WARNING: You are using pip version 21.2.3; however, version 24.0 is available.\n",
      "You should consider upgrading via the 'C:\\Users\\thyt\\envs\\huggingface\\Scripts\\python.exe -m pip install --upgrade pip' command.\n",
      "WARNING: You are using pip version 21.2.3; however, version 24.0 is available.\n",
      "You should consider upgrading via the 'c:\\Users\\thyt\\envs\\huggingface\\Scripts\\python.exe -m pip install --upgrade pip' command.\n"
     ]
    }
   ],
   "source": [
    "!pip install -U onnx rich onnxruntime && pip install -U ssc4onnx && python -m pip install onnx_graphsurgeon --index-url https://pypi.ngc.nvidia.com"
   ]
  },
  {
   "cell_type": "code",
   "execution_count": 23,
   "metadata": {},
   "outputs": [
    {
     "name": "stdout",
     "output_type": "stream",
     "text": [
      "┌────────────────────────┬────────────┬────────────┐\n",
      "│ OP Type                │ OPs        │ Sizes      │\n",
      "├────────────────────────┼────────────┼────────────┤\n",
      "│ Add                    │ 57         │ 39.0KiB    │\n",
      "│ Cast                   │ 19         │ 532.0B     │\n",
      "│ Concat                 │ 74         │ 1.7KiB     │\n",
      "│ Constant               │ 420        │ 1.0MiB     │\n",
      "│ ConstantOfShape        │ 6          │ 24.0B      │\n",
      "│ Div                    │ 19         │ 0.0B       │\n",
      "│ Gather                 │ 99         │ 150.2MiB   │\n",
      "│ Gemm                   │ 24         │ 162.2MiB   │\n",
      "│ MatMul                 │ 12         │ 0.0B       │\n",
      "│ Mul                    │ 37         │ 39.0KiB    │\n",
      "│ Pow                    │ 25         │ 0.0B       │\n",
      "│ Range                  │ 1          │ 0.0B       │\n",
      "│ ReduceMean             │ 26         │ 1.6KiB     │\n",
      "│ Reshape                │ 74         │ 0.0B       │\n",
      "│ Shape                  │ 140        │ 0.0B       │\n",
      "│ Slice                  │ 55         │ 0.0B       │\n",
      "│ Softmax                │ 6          │ 168.0B     │\n",
      "│ Split                  │ 6          │ 648.0B     │\n",
      "│ Sqrt                   │ 13         │ 0.0B       │\n",
      "│ Squeeze                │ 43         │ 2.7KiB     │\n",
      "│ Sub                    │ 19         │ 0.0B       │\n",
      "│ Tanh                   │ 6          │ 0.0B       │\n",
      "│ Transpose              │ 30         │ 2.6KiB     │\n",
      "│ Unsqueeze              │ 142        │ 8.9KiB     │\n",
      "│ Where                  │ 6          │ 0.0B       │\n",
      "│ ---------------------- │ ---------- │ ---------- │\n",
      "│ Total number of OPs    │ 1,359      │            │\n",
      "│ ---------------------- │ ---------- │ ---------- │\n",
      "│ Total params           │ 79.1M      │            │\n",
      "│ ====================== │ ========== │ ========== │\n",
      "│ Model Size             │ 313.6MiB   │ 313.5MiB   │\n",
      "└────────────────────────┴────────────┴────────────┘\n",
      "\u001b[32mINFO:\u001b[0m \u001b[34mfile:\u001b[0m distilgpt2_20230307.onnx\n",
      "\u001b[32mINFO:\u001b[0m \u001b[34mproducer:\u001b[0m pytorch 2.2.1\n",
      "\u001b[32mINFO:\u001b[0m \u001b[34mopset:\u001b[0m 11\n",
      "\u001b[32mINFO:\u001b[0m \u001b[34minput_name.1:\u001b[0m input_ids \u001b[34mshape:\u001b[0m ['batch_size', 6] \u001b[34mdtype:\u001b[0m int64\n",
      "\u001b[32mINFO:\u001b[0m \u001b[34moutput_name.1:\u001b[0m outputs \u001b[34mshape:\u001b[0m ['batch_size', 'Reshapeoutputs_dim_1', 'Reshapeoutputs_dim_2'] \u001b[34mdtype:\u001b[0m float32\n",
      "\u001b[32mINFO:\u001b[0m \u001b[34moutput_name.2:\u001b[0m key.3 \u001b[34mshape:\u001b[0m ['Transposekey.3_dim_0', 12, 'Transposekey.3_dim_2', 64] \u001b[34mdtype:\u001b[0m float32\n",
      "\u001b[32mINFO:\u001b[0m \u001b[34moutput_name.3:\u001b[0m value.3 \u001b[34mshape:\u001b[0m ['Transposevalue.3_dim_0', 12, 'Transposevalue.3_dim_2', 64] \u001b[34mdtype:\u001b[0m float32\n",
      "\u001b[32mINFO:\u001b[0m \u001b[34moutput_name.4:\u001b[0m key.11 \u001b[34mshape:\u001b[0m ['Transposekey.11_dim_0', 12, 'Transposekey.11_dim_2', 64] \u001b[34mdtype:\u001b[0m float32\n",
      "\u001b[32mINFO:\u001b[0m \u001b[34moutput_name.5:\u001b[0m value.11 \u001b[34mshape:\u001b[0m ['Transposevalue.11_dim_0', 12, 'Transposevalue.11_dim_2', 64] \u001b[34mdtype:\u001b[0m float32\n",
      "\u001b[32mINFO:\u001b[0m \u001b[34moutput_name.6:\u001b[0m key.19 \u001b[34mshape:\u001b[0m ['Transposekey.19_dim_0', 12, 'Transposekey.19_dim_2', 64] \u001b[34mdtype:\u001b[0m float32\n",
      "\u001b[32mINFO:\u001b[0m \u001b[34moutput_name.7:\u001b[0m value.19 \u001b[34mshape:\u001b[0m ['Transposevalue.19_dim_0', 12, 'Transposevalue.19_dim_2', 64] \u001b[34mdtype:\u001b[0m float32\n",
      "\u001b[32mINFO:\u001b[0m \u001b[34moutput_name.8:\u001b[0m key.27 \u001b[34mshape:\u001b[0m ['Transposekey.27_dim_0', 12, 'Transposekey.27_dim_2', 64] \u001b[34mdtype:\u001b[0m float32\n",
      "\u001b[32mINFO:\u001b[0m \u001b[34moutput_name.9:\u001b[0m value.27 \u001b[34mshape:\u001b[0m ['Transposevalue.27_dim_0', 12, 'Transposevalue.27_dim_2', 64] \u001b[34mdtype:\u001b[0m float32\n",
      "\u001b[32mINFO:\u001b[0m \u001b[34moutput_name.10:\u001b[0m key.35 \u001b[34mshape:\u001b[0m ['Transposekey.35_dim_0', 12, 'Transposekey.35_dim_2', 64] \u001b[34mdtype:\u001b[0m float32\n",
      "\u001b[32mINFO:\u001b[0m \u001b[34moutput_name.11:\u001b[0m value.35 \u001b[34mshape:\u001b[0m ['Transposevalue.35_dim_0', 12, 'Transposevalue.35_dim_2', 64] \u001b[34mdtype:\u001b[0m float32\n",
      "\u001b[32mINFO:\u001b[0m \u001b[34moutput_name.12:\u001b[0m key.43 \u001b[34mshape:\u001b[0m ['Transposekey.43_dim_0', 12, 'Transposekey.43_dim_2', 64] \u001b[34mdtype:\u001b[0m float32\n",
      "\u001b[32mINFO:\u001b[0m \u001b[34moutput_name.13:\u001b[0m value.43 \u001b[34mshape:\u001b[0m ['Transposevalue.43_dim_0', 12, 'Transposevalue.43_dim_2', 64] \u001b[34mdtype:\u001b[0m float32\n",
      "\u001b[32mINFO:\u001b[0m Finish!\n"
     ]
    }
   ],
   "source": [
    "!ssc4onnx -if distilgpt2_20230307.onnx"
   ]
  },
  {
   "cell_type": "code",
   "execution_count": 22,
   "metadata": {},
   "outputs": [
    {
     "name": "stdout",
     "output_type": "stream",
     "text": [
      "┌────────────────────────┬────────────┬────────────┐\n",
      "│ OP Type                │ OPs        │ Sizes      │\n",
      "├────────────────────────┼────────────┼────────────┤\n",
      "│ Add                    │ 51         │ 57.1KiB    │\n",
      "│ Div                    │ 19         │ 24.0B      │\n",
      "│ Gather                 │ 1          │ 147.2MiB   │\n",
      "│ Gemm                   │ 24         │ 162.2MiB   │\n",
      "│ MatMul                 │ 12         │ 0.0B       │\n",
      "│ Mul                    │ 37         │ 39.1KiB    │\n",
      "│ Pow                    │ 19         │ 76.0B      │\n",
      "│ ReduceMean             │ 26         │ 1.6KiB     │\n",
      "│ Reshape                │ 66         │ 1.5KiB     │\n",
      "│ Softmax                │ 6          │ 168.0B     │\n",
      "│ Split                  │ 6          │ 648.0B     │\n",
      "│ Sqrt                   │ 13         │ 0.0B       │\n",
      "│ Sub                    │ 13         │ 0.0B       │\n",
      "│ Tanh                   │ 6          │ 0.0B       │\n",
      "│ Transpose              │ 30         │ 2.6KiB     │\n",
      "│ Where                  │ 6          │ 240.0B     │\n",
      "│ ---------------------- │ ---------- │ ---------- │\n",
      "│ Total number of OPs    │ 335        │            │\n",
      "│ ---------------------- │ ---------- │ ---------- │\n",
      "│ Total params           │ 77.4M      │            │\n",
      "│ ====================== │ ========== │ ========== │\n",
      "│ Model Size             │ 309.5MiB   │ 309.5MiB   │\n",
      "└────────────────────────┴────────────┴────────────┘\n",
      "\u001b[32mINFO:\u001b[0m \u001b[34mfile:\u001b[0m distilgpt2_20230307_simplified.onnx\n",
      "\u001b[32mINFO:\u001b[0m \u001b[34mproducer:\u001b[0m pytorch 2.2.1\n",
      "\u001b[32mINFO:\u001b[0m \u001b[34mopset:\u001b[0m 11\n",
      "\u001b[32mINFO:\u001b[0m \u001b[34minput_name.1:\u001b[0m input_ids \u001b[34mshape:\u001b[0m ['unk__0', 6] \u001b[34mdtype:\u001b[0m int64\n",
      "\u001b[32mINFO:\u001b[0m \u001b[34moutput_name.1:\u001b[0m outputs \u001b[34mshape:\u001b[0m ['batch_size', 6, 768] \u001b[34mdtype:\u001b[0m float32\n",
      "\u001b[32mINFO:\u001b[0m \u001b[34moutput_name.2:\u001b[0m key.3 \u001b[34mshape:\u001b[0m ['Transposekey.3_dim_0', 12, 6, 64] \u001b[34mdtype:\u001b[0m float32\n",
      "\u001b[32mINFO:\u001b[0m \u001b[34moutput_name.3:\u001b[0m value.3 \u001b[34mshape:\u001b[0m ['Transposevalue.3_dim_0', 12, 6, 64] \u001b[34mdtype:\u001b[0m float32\n",
      "\u001b[32mINFO:\u001b[0m \u001b[34moutput_name.4:\u001b[0m key.11 \u001b[34mshape:\u001b[0m ['Transposekey.11_dim_0', 12, 6, 64] \u001b[34mdtype:\u001b[0m float32\n",
      "\u001b[32mINFO:\u001b[0m \u001b[34moutput_name.5:\u001b[0m value.11 \u001b[34mshape:\u001b[0m ['Transposevalue.11_dim_0', 12, 6, 64] \u001b[34mdtype:\u001b[0m float32\n",
      "\u001b[32mINFO:\u001b[0m \u001b[34moutput_name.6:\u001b[0m key.19 \u001b[34mshape:\u001b[0m ['Transposekey.19_dim_0', 12, 6, 64] \u001b[34mdtype:\u001b[0m float32\n",
      "\u001b[32mINFO:\u001b[0m \u001b[34moutput_name.7:\u001b[0m value.19 \u001b[34mshape:\u001b[0m ['Transposevalue.19_dim_0', 12, 6, 64] \u001b[34mdtype:\u001b[0m float32\n",
      "\u001b[32mINFO:\u001b[0m \u001b[34moutput_name.8:\u001b[0m key.27 \u001b[34mshape:\u001b[0m ['Transposekey.27_dim_0', 12, 6, 64] \u001b[34mdtype:\u001b[0m float32\n",
      "\u001b[32mINFO:\u001b[0m \u001b[34moutput_name.9:\u001b[0m value.27 \u001b[34mshape:\u001b[0m ['Transposevalue.27_dim_0', 12, 6, 64] \u001b[34mdtype:\u001b[0m float32\n",
      "\u001b[32mINFO:\u001b[0m \u001b[34moutput_name.10:\u001b[0m key.35 \u001b[34mshape:\u001b[0m ['Transposekey.35_dim_0', 12, 6, 64] \u001b[34mdtype:\u001b[0m float32\n",
      "\u001b[32mINFO:\u001b[0m \u001b[34moutput_name.11:\u001b[0m value.35 \u001b[34mshape:\u001b[0m ['Transposevalue.35_dim_0', 12, 6, 64] \u001b[34mdtype:\u001b[0m float32\n",
      "\u001b[32mINFO:\u001b[0m \u001b[34moutput_name.12:\u001b[0m key.43 \u001b[34mshape:\u001b[0m ['Transposekey.43_dim_0', 12, 6, 64] \u001b[34mdtype:\u001b[0m float32\n",
      "\u001b[32mINFO:\u001b[0m \u001b[34moutput_name.13:\u001b[0m value.43 \u001b[34mshape:\u001b[0m ['Transposevalue.43_dim_0', 12, 6, 64] \u001b[34mdtype:\u001b[0m float32\n",
      "\u001b[32mINFO:\u001b[0m Finish!\n"
     ]
    }
   ],
   "source": [
    "!ssc4onnx -if distilgpt2_20230307_simplified.onnx"
   ]
  }
 ],
 "metadata": {
  "kernelspec": {
   "display_name": "hugging_face",
   "language": "python",
   "name": "python3"
  },
  "language_info": {
   "codemirror_mode": {
    "name": "ipython",
    "version": 3
   },
   "file_extension": ".py",
   "mimetype": "text/x-python",
   "name": "python",
   "nbconvert_exporter": "python",
   "pygments_lexer": "ipython3",
   "version": "3.9.7"
  }
 },
 "nbformat": 4,
 "nbformat_minor": 2
}
