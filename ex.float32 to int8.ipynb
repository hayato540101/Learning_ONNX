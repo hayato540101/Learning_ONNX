{
 "cells": [
  {
   "cell_type": "code",
   "execution_count": null,
   "metadata": {},
   "outputs": [],
   "source": [
    "import numpy as np\n",
    "import onnxruntime as ort\n",
    "import torch\n",
    "import torch.nn as nn\n",
    "import torch.nn.functional as F\n",
    "import torch.onnx\n",
    "from onnxruntime.quantization import QuantType, quantize_dynamic\n",
    "\n",
    "import onnx\n"
   ]
  },
  {
   "cell_type": "markdown",
   "metadata": {},
   "source": [
    "### float32→int8"
   ]
  },
  {
   "cell_type": "code",
   "execution_count": 2,
   "metadata": {},
   "outputs": [
    {
     "data": {
      "text/plain": [
       "(-83.33333333333334, 171.66666666666669)"
      ]
     },
     "execution_count": 2,
     "metadata": {},
     "output_type": "execute_result"
    }
   ],
   "source": [
    "MIN=-200 # データの最小値\n",
    "MAX=412 # データの最大値\n",
    "\n",
    "S = (255/(MAX-MIN)) # scale\n",
    "\n",
    "_MIN = MIN*S\n",
    "_MAX = MAX*S\n",
    "_MIN,_MAX  # -127~128の範囲に入っていないのでzero-pointで調整"
   ]
  },
  {
   "cell_type": "code",
   "execution_count": 5,
   "metadata": {},
   "outputs": [
    {
     "name": "stdout",
     "output_type": "stream",
     "text": [
      "44.66666666666666,44.666666666666686\n",
      "45,45\n"
     ]
    },
    {
     "data": {
      "text/plain": [
       "126.66666666666669"
      ]
     },
     "execution_count": 5,
     "metadata": {},
     "output_type": "execute_result"
    }
   ],
   "source": [
    "# zero-point\n",
    "print(f\"{np.abs(-128-_MIN)},{np.abs(127-_MAX)}\")\n",
    "print(f\"{round(np.abs(-128-_MIN))},{round(np.abs(127-_MAX))}\")"
   ]
  },
  {
   "cell_type": "markdown",
   "metadata": {},
   "source": [
    "### onnxruntime.quantization.preprocess"
   ]
  },
  {
   "cell_type": "code",
   "execution_count": 24,
   "metadata": {},
   "outputs": [],
   "source": [
    "\n",
    "class SimpleNN(nn.Module):\n",
    "    def __init__(self):\n",
    "        super(SimpleNN, self).__init__()\n",
    "        self.linear = nn.Linear(10, 1)  # 10入力1出力の全結合層\n",
    "\n",
    "    def forward(self, x):\n",
    "        return self.linear(x)\n",
    "# モデルのインスタンス化\n",
    "model = SimpleNN()\n",
    "\n",
    "# 推論を行うためのサンプルテンソル（ダミーデータ）を作成\n",
    "# ここでは、バッチサイズを2とする（2つのサンプルがあると仮定）\n",
    "sample_tensor = torch.randn(1, 10)  # 2x10のテンソル\n",
    "\n",
    "# モデルを評価モードに設定\n",
    "model.eval()\n",
    "\n",
    "# 推論実行\n",
    "# with torch.no_grad():  # 勾配計算を無効化\n",
    "#     output = model(sample_tensor)\n",
    "# print(output),sample_tensor\n",
    "\n",
    "model.eval()\n",
    "\n",
    "output_onnx = 'simple_one.onnx'\n",
    "torch.onnx.export(model, sample_tensor, output_onnx, verbose=True, input_names=['input'], output_names=['output'])"
   ]
  },
  {
   "cell_type": "code",
   "execution_count": 25,
   "metadata": {},
   "outputs": [],
   "source": [
    "!python -m onnxruntime.quantization.preprocess --input simple_one.onnx --output simple_one-infer.onnx"
   ]
  },
  {
   "cell_type": "code",
   "execution_count": 11,
   "metadata": {},
   "outputs": [],
   "source": [
    "model = models.resnet18(pretrained=False)\n",
    "model.eval()  # モデルを評価モードに設定\n",
    "dummy_input = torch.randn(1, 3, 224, 224)\n",
    "torch.onnx.export(model, dummy_input, \"resnet18.onnx\", verbose=True, input_names=['input'], output_names=['output'])"
   ]
  },
  {
   "cell_type": "code",
   "execution_count": 12,
   "metadata": {},
   "outputs": [],
   "source": [
    "!python -m onnxruntime.quantization.preprocess --input resnet18.onnx --output resnet18-infer.onnx\n"
   ]
  }
 ],
 "metadata": {
  "kernelspec": {
   "display_name": "onnx-cpu",
   "language": "python",
   "name": "python3"
  },
  "language_info": {
   "codemirror_mode": {
    "name": "ipython",
    "version": 3
   },
   "file_extension": ".py",
   "mimetype": "text/x-python",
   "name": "python",
   "nbconvert_exporter": "python",
   "pygments_lexer": "ipython3",
   "version": "3.8.0"
  }
 },
 "nbformat": 4,
 "nbformat_minor": 2
}
