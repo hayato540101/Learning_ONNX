{
 "cells": [
  {
   "cell_type": "code",
   "execution_count": null,
   "metadata": {},
   "outputs": [],
   "source": [
    "import numpy as np\n",
    "import onnxruntime as ort\n",
    "import torch\n",
    "import torch.nn as nn\n",
    "import torch.nn.functional as F\n",
    "import torch.onnx\n",
    "from onnxruntime.quantization import QuantType, quantize_dynamic\n",
    "\n",
    "import onnx\n"
   ]
  },
  {
   "cell_type": "markdown",
   "metadata": {},
   "source": [
    "### float32→int8"
   ]
  },
  {
   "cell_type": "code",
   "execution_count": 2,
   "metadata": {},
   "outputs": [
    {
     "data": {
      "text/plain": [
       "(-83.33333333333334, 171.66666666666669)"
      ]
     },
     "execution_count": 2,
     "metadata": {},
     "output_type": "execute_result"
    }
   ],
   "source": [
    "MIN=-200 # データの最小値\n",
    "MAX=412 # データの最大値\n",
    "\n",
    "S = (255/(MAX-MIN)) # scale\n",
    "\n",
    "_MIN = MIN*S\n",
    "_MAX = MAX*S\n",
    "_MIN,_MAX  # -127~128の範囲に入っていないのでzero-pointで調整"
   ]
  },
  {
   "cell_type": "code",
   "execution_count": 5,
   "metadata": {},
   "outputs": [
    {
     "name": "stdout",
     "output_type": "stream",
     "text": [
      "44.66666666666666,44.666666666666686\n",
      "45,45\n"
     ]
    },
    {
     "data": {
      "text/plain": [
       "126.66666666666669"
      ]
     },
     "execution_count": 5,
     "metadata": {},
     "output_type": "execute_result"
    }
   ],
   "source": [
    "# zero-point\n",
    "print(f\"{np.abs(-128-_MIN)},{np.abs(127-_MAX)}\")\n",
    "print(f\"{round(np.abs(-128-_MIN))},{round(np.abs(127-_MAX))}\")"
   ]
  }
 ],
 "metadata": {
  "kernelspec": {
   "display_name": "onnx-cpu",
   "language": "python",
   "name": "python3"
  },
  "language_info": {
   "codemirror_mode": {
    "name": "ipython",
    "version": 3
   },
   "file_extension": ".py",
   "mimetype": "text/x-python",
   "name": "python",
   "nbconvert_exporter": "python",
   "pygments_lexer": "ipython3",
   "version": "3.8.0"
  }
 },
 "nbformat": 4,
 "nbformat_minor": 2
}
